{
 "cells": [
  {
   "cell_type": "code",
   "execution_count": 81,
   "id": "219abdc0",
   "metadata": {},
   "outputs": [
    {
     "name": "stdout",
     "output_type": "stream",
     "text": [
      "The autoreload extension is already loaded. To reload it, use:\n",
      "  %reload_ext autoreload\n"
     ]
    },
    {
     "data": {
      "text/html": [
       "\n",
       "    <style>\n",
       "    .cell-output-ipywidget-background {\n",
       "        background-color: transparent !important;\n",
       "    }\n",
       "    :root {\n",
       "        --jp-widgets-color: var(--vscode-editor-foreground);\n",
       "        --jp-widgets-font-size: var(--vscode-editor-font-size);\n",
       "    }\n",
       "    </style>\n",
       "    "
      ],
      "text/plain": [
       "<IPython.core.display.HTML object>"
      ]
     },
     "metadata": {},
     "output_type": "display_data"
    }
   ],
   "source": [
    "%load_ext autoreload\n",
    "%autoreload 2\n",
    "\n",
    "import random\n",
    "\n",
    "import numpy as np\n",
    "import pandas as pd\n",
    "from IPython.display import clear_output\n",
    "from tqdm.auto import tqdm\n",
    "\n",
    "from modules.data_manage.load_mnist import load_mnist\n",
    "from modules.grammar.count_accuracy import CountAccuracy\n",
    "from modules.grammar.grammar import Grammar\n",
    "from modules.grammar.merge.stupid_merge_same_nodes import stupid_merge_same_nodes\n",
    "from modules.grammar.node import merge_nodes\n",
    "from modules.plots.draw_imgs import draw_imgs\n",
    "from modules.plots.plot_random_from_grammar import plot_random_from_grammar\n",
    "from modules.utils import inject_jupyter_style\n",
    "\n",
    "inject_jupyter_style()"
   ]
  },
  {
   "cell_type": "code",
   "execution_count": 125,
   "id": "9230502b",
   "metadata": {},
   "outputs": [
    {
     "name": "stdout",
     "output_type": "stream",
     "text": [
      "Train: (10000, 32, 32) (10000,)\n",
      "Test:  (10000, 32, 32) (10000,)\n"
     ]
    }
   ],
   "source": [
    "x_train, y_train, x_test, y_test = load_mnist(size=10000)\n",
    "# draw_imgs(x_train, (2, 7), random=False)"
   ]
  },
  {
   "cell_type": "code",
   "execution_count": null,
   "id": "c19457d0",
   "metadata": {},
   "outputs": [
    {
     "data": {
      "application/vnd.jupyter.widget-view+json": {
       "model_id": "895e66cb672f41c99057692902129913",
       "version_major": 2,
       "version_minor": 0
      },
      "text/plain": [
       "  0%|          | 0/1001 [00:00<?, ?it/s]"
      ]
     },
     "metadata": {},
     "output_type": "display_data"
    },
    {
     "ename": "KeyboardInterrupt",
     "evalue": "",
     "output_type": "error",
     "traceback": [
      "\u001b[31m---------------------------------------------------------------------------\u001b[39m",
      "\u001b[31mKeyboardInterrupt\u001b[39m                         Traceback (most recent call last)",
      "\u001b[36mCell\u001b[39m\u001b[36m \u001b[39m\u001b[32mIn[126]\u001b[39m\u001b[32m, line 13\u001b[39m\n\u001b[32m     11\u001b[39m stupid_merge_same_nodes(grammar)\n\u001b[32m     12\u001b[39m nodes, node_df = grammar.set_height_for_all_nodes(verbose=\u001b[38;5;28;01mFalse\u001b[39;00m)\n\u001b[32m---> \u001b[39m\u001b[32m13\u001b[39m res = \u001b[43mmetric\u001b[49m\u001b[43m.\u001b[49m\u001b[43mcount_metrics\u001b[49m\u001b[43m(\u001b[49m\u001b[43m)\u001b[49m\n\u001b[32m     14\u001b[39m res\n",
      "\u001b[36mFile \u001b[39m\u001b[32m<string>:3\u001b[39m, in \u001b[36mcount_metrics\u001b[39m\u001b[34m(self, verbose)\u001b[39m\n",
      "\u001b[36mFile \u001b[39m\u001b[32m<string>:5\u001b[39m, in \u001b[36m_count_accuracy\u001b[39m\u001b[34m(self, data, verbose)\u001b[39m\n",
      "\u001b[36mFile \u001b[39m\u001b[32m~/projects/context_free_grammar/modules/grammar/grammar.py:155\u001b[39m, in \u001b[36mGrammar.is_image_in_grammar\u001b[39m\u001b[34m(self, image, node)\u001b[39m\n\u001b[32m    153\u001b[39m             \u001b[38;5;28;01mreturn\u001b[39;00m \u001b[38;5;28;01mTrue\u001b[39;00m\n\u001b[32m    154\u001b[39m \u001b[38;5;28;01melif\u001b[39;00m action == \u001b[33m\"\u001b[39m\u001b[33msingle image\u001b[39m\u001b[33m\"\u001b[39m:\n\u001b[32m--> \u001b[39m\u001b[32m155\u001b[39m     \u001b[38;5;28;01mif\u001b[39;00m \u001b[38;5;28;43mself\u001b[39;49m\u001b[43m.\u001b[49m\u001b[43mis_image_in_grammar\u001b[49m\u001b[43m(\u001b[49m\u001b[43mimage\u001b[49m\u001b[43m,\u001b[49m\u001b[43m \u001b[49m\u001b[43mnodes\u001b[49m\u001b[43m[\u001b[49m\u001b[32;43m0\u001b[39;49m\u001b[43m]\u001b[49m\u001b[43m)\u001b[49m:\n\u001b[32m    156\u001b[39m         \u001b[38;5;28;01mreturn\u001b[39;00m \u001b[38;5;28;01mTrue\u001b[39;00m\n\u001b[32m    157\u001b[39m \u001b[38;5;28;01melse\u001b[39;00m:\n",
      "\u001b[36mFile \u001b[39m\u001b[32m~/projects/context_free_grammar/modules/grammar/grammar.py:150\u001b[39m, in \u001b[36mGrammar.is_image_in_grammar\u001b[39m\u001b[34m(self, image, node)\u001b[39m\n\u001b[32m    148\u001b[39m         image0 = image[:, : image.shape[\u001b[32m1\u001b[39m] // \u001b[32m2\u001b[39m]\n\u001b[32m    149\u001b[39m         image1 = image[:, image.shape[\u001b[32m1\u001b[39m] // \u001b[32m2\u001b[39m :]\n\u001b[32m--> \u001b[39m\u001b[32m150\u001b[39m         \u001b[38;5;28;01mif\u001b[39;00m \u001b[38;5;28;43mself\u001b[39;49m\u001b[43m.\u001b[49m\u001b[43mis_image_in_grammar\u001b[49m\u001b[43m(\u001b[49m\n\u001b[32m    151\u001b[39m \u001b[43m            \u001b[49m\u001b[43mimage0\u001b[49m\u001b[43m,\u001b[49m\u001b[43m \u001b[49m\u001b[43mnodes\u001b[49m\u001b[43m[\u001b[49m\u001b[32;43m0\u001b[39;49m\u001b[43m]\u001b[49m\n\u001b[32m    152\u001b[39m \u001b[43m        \u001b[49m\u001b[43m)\u001b[49m \u001b[38;5;129;01mand\u001b[39;00m \u001b[38;5;28mself\u001b[39m.is_image_in_grammar(image1, nodes[\u001b[32m1\u001b[39m]):\n\u001b[32m    153\u001b[39m             \u001b[38;5;28;01mreturn\u001b[39;00m \u001b[38;5;28;01mTrue\u001b[39;00m\n\u001b[32m    154\u001b[39m \u001b[38;5;28;01melif\u001b[39;00m action == \u001b[33m\"\u001b[39m\u001b[33msingle image\u001b[39m\u001b[33m\"\u001b[39m:\n",
      "\u001b[36mFile \u001b[39m\u001b[32m~/projects/context_free_grammar/modules/grammar/grammar.py:150\u001b[39m, in \u001b[36mGrammar.is_image_in_grammar\u001b[39m\u001b[34m(self, image, node)\u001b[39m\n\u001b[32m    148\u001b[39m         image0 = image[:, : image.shape[\u001b[32m1\u001b[39m] // \u001b[32m2\u001b[39m]\n\u001b[32m    149\u001b[39m         image1 = image[:, image.shape[\u001b[32m1\u001b[39m] // \u001b[32m2\u001b[39m :]\n\u001b[32m--> \u001b[39m\u001b[32m150\u001b[39m         \u001b[38;5;28;01mif\u001b[39;00m \u001b[38;5;28;43mself\u001b[39;49m\u001b[43m.\u001b[49m\u001b[43mis_image_in_grammar\u001b[49m\u001b[43m(\u001b[49m\n\u001b[32m    151\u001b[39m \u001b[43m            \u001b[49m\u001b[43mimage0\u001b[49m\u001b[43m,\u001b[49m\u001b[43m \u001b[49m\u001b[43mnodes\u001b[49m\u001b[43m[\u001b[49m\u001b[32;43m0\u001b[39;49m\u001b[43m]\u001b[49m\n\u001b[32m    152\u001b[39m \u001b[43m        \u001b[49m\u001b[43m)\u001b[49m \u001b[38;5;129;01mand\u001b[39;00m \u001b[38;5;28mself\u001b[39m.is_image_in_grammar(image1, nodes[\u001b[32m1\u001b[39m]):\n\u001b[32m    153\u001b[39m             \u001b[38;5;28;01mreturn\u001b[39;00m \u001b[38;5;28;01mTrue\u001b[39;00m\n\u001b[32m    154\u001b[39m \u001b[38;5;28;01melif\u001b[39;00m action == \u001b[33m\"\u001b[39m\u001b[33msingle image\u001b[39m\u001b[33m\"\u001b[39m:\n",
      "\u001b[36mFile \u001b[39m\u001b[32m~/projects/context_free_grammar/modules/grammar/grammar.py:142\u001b[39m, in \u001b[36mGrammar.is_image_in_grammar\u001b[39m\u001b[34m(self, image, node)\u001b[39m\n\u001b[32m    140\u001b[39m         image0 = image[: image.shape[\u001b[32m0\u001b[39m] // \u001b[32m2\u001b[39m]\n\u001b[32m    141\u001b[39m         image1 = image[image.shape[\u001b[32m0\u001b[39m] // \u001b[32m2\u001b[39m :]\n\u001b[32m--> \u001b[39m\u001b[32m142\u001b[39m         \u001b[38;5;28;01mif\u001b[39;00m \u001b[38;5;28;43mself\u001b[39;49m\u001b[43m.\u001b[49m\u001b[43mis_image_in_grammar\u001b[49m\u001b[43m(\u001b[49m\n\u001b[32m    143\u001b[39m \u001b[43m            \u001b[49m\u001b[43mimage0\u001b[49m\u001b[43m,\u001b[49m\u001b[43m \u001b[49m\u001b[43mnodes\u001b[49m\u001b[43m[\u001b[49m\u001b[32;43m0\u001b[39;49m\u001b[43m]\u001b[49m\n\u001b[32m    144\u001b[39m \u001b[43m        \u001b[49m\u001b[43m)\u001b[49m \u001b[38;5;129;01mand\u001b[39;00m \u001b[38;5;28mself\u001b[39m.is_image_in_grammar(image1, nodes[\u001b[32m1\u001b[39m]):\n\u001b[32m    145\u001b[39m             \u001b[38;5;28;01mreturn\u001b[39;00m \u001b[38;5;28;01mTrue\u001b[39;00m\n\u001b[32m    146\u001b[39m \u001b[38;5;28;01melif\u001b[39;00m action == \u001b[33m\"\u001b[39m\u001b[33mvertical line\u001b[39m\u001b[33m\"\u001b[39m:\n",
      "\u001b[36mFile \u001b[39m\u001b[32m~/projects/context_free_grammar/modules/grammar/grammar.py:152\u001b[39m, in \u001b[36mGrammar.is_image_in_grammar\u001b[39m\u001b[34m(self, image, node)\u001b[39m\n\u001b[32m    148\u001b[39m         image0 = image[:, : image.shape[\u001b[32m1\u001b[39m] // \u001b[32m2\u001b[39m]\n\u001b[32m    149\u001b[39m         image1 = image[:, image.shape[\u001b[32m1\u001b[39m] // \u001b[32m2\u001b[39m :]\n\u001b[32m    150\u001b[39m         \u001b[38;5;28;01mif\u001b[39;00m \u001b[38;5;28mself\u001b[39m.is_image_in_grammar(\n\u001b[32m    151\u001b[39m             image0, nodes[\u001b[32m0\u001b[39m]\n\u001b[32m--> \u001b[39m\u001b[32m152\u001b[39m         ) \u001b[38;5;129;01mand\u001b[39;00m \u001b[38;5;28;43mself\u001b[39;49m\u001b[43m.\u001b[49m\u001b[43mis_image_in_grammar\u001b[49m\u001b[43m(\u001b[49m\u001b[43mimage1\u001b[49m\u001b[43m,\u001b[49m\u001b[43m \u001b[49m\u001b[43mnodes\u001b[49m\u001b[43m[\u001b[49m\u001b[32;43m1\u001b[39;49m\u001b[43m]\u001b[49m\u001b[43m)\u001b[49m:\n\u001b[32m    153\u001b[39m             \u001b[38;5;28;01mreturn\u001b[39;00m \u001b[38;5;28;01mTrue\u001b[39;00m\n\u001b[32m    154\u001b[39m \u001b[38;5;28;01melif\u001b[39;00m action == \u001b[33m\"\u001b[39m\u001b[33msingle image\u001b[39m\u001b[33m\"\u001b[39m:\n",
      "\u001b[36mFile \u001b[39m\u001b[32m~/projects/context_free_grammar/modules/grammar/grammar.py:150\u001b[39m, in \u001b[36mGrammar.is_image_in_grammar\u001b[39m\u001b[34m(self, image, node)\u001b[39m\n\u001b[32m    148\u001b[39m         image0 = image[:, : image.shape[\u001b[32m1\u001b[39m] // \u001b[32m2\u001b[39m]\n\u001b[32m    149\u001b[39m         image1 = image[:, image.shape[\u001b[32m1\u001b[39m] // \u001b[32m2\u001b[39m :]\n\u001b[32m--> \u001b[39m\u001b[32m150\u001b[39m         \u001b[38;5;28;01mif\u001b[39;00m \u001b[38;5;28;43mself\u001b[39;49m\u001b[43m.\u001b[49m\u001b[43mis_image_in_grammar\u001b[49m\u001b[43m(\u001b[49m\n\u001b[32m    151\u001b[39m \u001b[43m            \u001b[49m\u001b[43mimage0\u001b[49m\u001b[43m,\u001b[49m\u001b[43m \u001b[49m\u001b[43mnodes\u001b[49m\u001b[43m[\u001b[49m\u001b[32;43m0\u001b[39;49m\u001b[43m]\u001b[49m\n\u001b[32m    152\u001b[39m \u001b[43m        \u001b[49m\u001b[43m)\u001b[49m \u001b[38;5;129;01mand\u001b[39;00m \u001b[38;5;28mself\u001b[39m.is_image_in_grammar(image1, nodes[\u001b[32m1\u001b[39m]):\n\u001b[32m    153\u001b[39m             \u001b[38;5;28;01mreturn\u001b[39;00m \u001b[38;5;28;01mTrue\u001b[39;00m\n\u001b[32m    154\u001b[39m \u001b[38;5;28;01melif\u001b[39;00m action == \u001b[33m\"\u001b[39m\u001b[33msingle image\u001b[39m\u001b[33m\"\u001b[39m:\n",
      "\u001b[36mFile \u001b[39m\u001b[32m~/projects/context_free_grammar/modules/grammar/grammar.py:150\u001b[39m, in \u001b[36mGrammar.is_image_in_grammar\u001b[39m\u001b[34m(self, image, node)\u001b[39m\n\u001b[32m    148\u001b[39m         image0 = image[:, : image.shape[\u001b[32m1\u001b[39m] // \u001b[32m2\u001b[39m]\n\u001b[32m    149\u001b[39m         image1 = image[:, image.shape[\u001b[32m1\u001b[39m] // \u001b[32m2\u001b[39m :]\n\u001b[32m--> \u001b[39m\u001b[32m150\u001b[39m         \u001b[38;5;28;01mif\u001b[39;00m \u001b[38;5;28;43mself\u001b[39;49m\u001b[43m.\u001b[49m\u001b[43mis_image_in_grammar\u001b[49m\u001b[43m(\u001b[49m\n\u001b[32m    151\u001b[39m \u001b[43m            \u001b[49m\u001b[43mimage0\u001b[49m\u001b[43m,\u001b[49m\u001b[43m \u001b[49m\u001b[43mnodes\u001b[49m\u001b[43m[\u001b[49m\u001b[32;43m0\u001b[39;49m\u001b[43m]\u001b[49m\n\u001b[32m    152\u001b[39m \u001b[43m        \u001b[49m\u001b[43m)\u001b[49m \u001b[38;5;129;01mand\u001b[39;00m \u001b[38;5;28mself\u001b[39m.is_image_in_grammar(image1, nodes[\u001b[32m1\u001b[39m]):\n\u001b[32m    153\u001b[39m             \u001b[38;5;28;01mreturn\u001b[39;00m \u001b[38;5;28;01mTrue\u001b[39;00m\n\u001b[32m    154\u001b[39m \u001b[38;5;28;01melif\u001b[39;00m action == \u001b[33m\"\u001b[39m\u001b[33msingle image\u001b[39m\u001b[33m\"\u001b[39m:\n",
      "\u001b[36mFile \u001b[39m\u001b[32m~/projects/context_free_grammar/modules/grammar/grammar.py:142\u001b[39m, in \u001b[36mGrammar.is_image_in_grammar\u001b[39m\u001b[34m(self, image, node)\u001b[39m\n\u001b[32m    140\u001b[39m         image0 = image[: image.shape[\u001b[32m0\u001b[39m] // \u001b[32m2\u001b[39m]\n\u001b[32m    141\u001b[39m         image1 = image[image.shape[\u001b[32m0\u001b[39m] // \u001b[32m2\u001b[39m :]\n\u001b[32m--> \u001b[39m\u001b[32m142\u001b[39m         \u001b[38;5;28;01mif\u001b[39;00m \u001b[38;5;28;43mself\u001b[39;49m\u001b[43m.\u001b[49m\u001b[43mis_image_in_grammar\u001b[49m\u001b[43m(\u001b[49m\n\u001b[32m    143\u001b[39m \u001b[43m            \u001b[49m\u001b[43mimage0\u001b[49m\u001b[43m,\u001b[49m\u001b[43m \u001b[49m\u001b[43mnodes\u001b[49m\u001b[43m[\u001b[49m\u001b[32;43m0\u001b[39;49m\u001b[43m]\u001b[49m\n\u001b[32m    144\u001b[39m \u001b[43m        \u001b[49m\u001b[43m)\u001b[49m \u001b[38;5;129;01mand\u001b[39;00m \u001b[38;5;28mself\u001b[39m.is_image_in_grammar(image1, nodes[\u001b[32m1\u001b[39m]):\n\u001b[32m    145\u001b[39m             \u001b[38;5;28;01mreturn\u001b[39;00m \u001b[38;5;28;01mTrue\u001b[39;00m\n\u001b[32m    146\u001b[39m \u001b[38;5;28;01melif\u001b[39;00m action == \u001b[33m\"\u001b[39m\u001b[33mvertical line\u001b[39m\u001b[33m\"\u001b[39m:\n",
      "\u001b[36mFile \u001b[39m\u001b[32m~/projects/context_free_grammar/modules/grammar/grammar.py:134\u001b[39m, in \u001b[36mGrammar.is_image_in_grammar\u001b[39m\u001b[34m(self, image, node)\u001b[39m\n\u001b[32m    132\u001b[39m \u001b[38;5;28;01mif\u001b[39;00m node.terminal:\n\u001b[32m    133\u001b[39m     \u001b[38;5;28;01mif\u001b[39;00m node.rules[\u001b[32m0\u001b[39m] == \u001b[33m\"\u001b[39m\u001b[33m1x1 pixel\u001b[39m\u001b[33m\"\u001b[39m:\n\u001b[32m--> \u001b[39m\u001b[32m134\u001b[39m         \u001b[38;5;28;01mreturn\u001b[39;00m image.min() == image.max() \u001b[38;5;129;01mand\u001b[39;00m \u001b[43mimage\u001b[49m\u001b[43m.\u001b[49m\u001b[43mmin\u001b[49m\u001b[43m(\u001b[49m\u001b[43m)\u001b[49m == node.rules[\u001b[32m1\u001b[39m]\n\u001b[32m    135\u001b[39m     \u001b[38;5;28;01mraise\u001b[39;00m \u001b[38;5;167;01mValueError\u001b[39;00m(\u001b[33mf\u001b[39m\u001b[33m\"\u001b[39m\u001b[33mUnknown terminal action: \u001b[39m\u001b[38;5;132;01m{\u001b[39;00mnode.rules[\u001b[32m0\u001b[39m]\u001b[38;5;132;01m}\u001b[39;00m\u001b[33m\"\u001b[39m)\n\u001b[32m    137\u001b[39m \u001b[38;5;28;01mfor\u001b[39;00m action, nodes \u001b[38;5;129;01min\u001b[39;00m node.rules:\n",
      "\u001b[36mFile \u001b[39m\u001b[32m~/miniconda3/envs/CFGrammar/lib/python3.13/site-packages/numpy/_core/_methods.py:48\u001b[39m, in \u001b[36m_amin\u001b[39m\u001b[34m(a, axis, out, keepdims, initial, where)\u001b[39m\n\u001b[32m     46\u001b[39m \u001b[38;5;28;01mdef\u001b[39;00m\u001b[38;5;250m \u001b[39m\u001b[34m_amin\u001b[39m(a, axis=\u001b[38;5;28;01mNone\u001b[39;00m, out=\u001b[38;5;28;01mNone\u001b[39;00m, keepdims=\u001b[38;5;28;01mFalse\u001b[39;00m,\n\u001b[32m     47\u001b[39m           initial=_NoValue, where=\u001b[38;5;28;01mTrue\u001b[39;00m):\n\u001b[32m---> \u001b[39m\u001b[32m48\u001b[39m     \u001b[38;5;28;01mreturn\u001b[39;00m \u001b[43mumr_minimum\u001b[49m\u001b[43m(\u001b[49m\u001b[43ma\u001b[49m\u001b[43m,\u001b[49m\u001b[43m \u001b[49m\u001b[43maxis\u001b[49m\u001b[43m,\u001b[49m\u001b[43m \u001b[49m\u001b[38;5;28;43;01mNone\u001b[39;49;00m\u001b[43m,\u001b[49m\u001b[43m \u001b[49m\u001b[43mout\u001b[49m\u001b[43m,\u001b[49m\u001b[43m \u001b[49m\u001b[43mkeepdims\u001b[49m\u001b[43m,\u001b[49m\u001b[43m \u001b[49m\u001b[43minitial\u001b[49m\u001b[43m,\u001b[49m\u001b[43m \u001b[49m\u001b[43mwhere\u001b[49m\u001b[43m)\u001b[49m\n",
      "\u001b[31mKeyboardInterrupt\u001b[39m: "
     ]
    }
   ],
   "source": [
    "grammar = Grammar(colors=x_train.max() + 1)\n",
    "metric = CountAccuracy(\n",
    "    grammar=grammar,\n",
    "    train=x_train[y_train == 0],\n",
    "    valid=x_test[y_test == 0],\n",
    "    wrong_train=x_train[y_train == 1],  # [x_train[y_train == i] for i in range(1, 10)],\n",
    "    wrong_valid=x_test[y_test == 1],  # [x_test[y_test == i] for i in range(1, 10)],\n",
    ")\n",
    "grammar.add_images(x_train[y_train == 0])\n",
    "\n",
    "stupid_merge_same_nodes(grammar)\n",
    "nodes, node_df = grammar.set_height_for_all_nodes(verbose=False)\n",
    "res = metric.count_metrics(verbose=True)\n",
    "res"
   ]
  },
  {
   "cell_type": "code",
   "execution_count": null,
   "id": "a3e99d2c",
   "metadata": {},
   "outputs": [
    {
     "data": {
      "text/html": [
       "<div>\n",
       "<style scoped>\n",
       "    .dataframe tbody tr th:only-of-type {\n",
       "        vertical-align: middle;\n",
       "    }\n",
       "\n",
       "    .dataframe tbody tr th {\n",
       "        vertical-align: top;\n",
       "    }\n",
       "\n",
       "    .dataframe thead th {\n",
       "        text-align: right;\n",
       "    }\n",
       "</style>\n",
       "<table border=\"1\" class=\"dataframe\">\n",
       "  <thead>\n",
       "    <tr style=\"text-align: right;\">\n",
       "      <th></th>\n",
       "      <th>0</th>\n",
       "      <th>1</th>\n",
       "      <th>2</th>\n",
       "      <th>3</th>\n",
       "      <th>4</th>\n",
       "      <th>5</th>\n",
       "      <th>6</th>\n",
       "      <th>7</th>\n",
       "      <th>8</th>\n",
       "      <th>9</th>\n",
       "      <th>10</th>\n",
       "      <th>11</th>\n",
       "      <th>train</th>\n",
       "      <th>valid</th>\n",
       "      <th>wrong train</th>\n",
       "      <th>wrong valid</th>\n",
       "    </tr>\n",
       "  </thead>\n",
       "  <tbody>\n",
       "    <tr>\n",
       "      <th>0</th>\n",
       "      <td>2</td>\n",
       "      <td>4</td>\n",
       "      <td>24</td>\n",
       "      <td>84</td>\n",
       "      <td>143</td>\n",
       "      <td>181</td>\n",
       "      <td>127</td>\n",
       "      <td>80</td>\n",
       "      <td>50</td>\n",
       "      <td>26</td>\n",
       "      <td>13</td>\n",
       "      <td>1</td>\n",
       "      <td>1.0</td>\n",
       "      <td>0.0</td>\n",
       "      <td>0.0</td>\n",
       "      <td>0.0</td>\n",
       "    </tr>\n",
       "    <tr>\n",
       "      <th>0</th>\n",
       "      <td>2</td>\n",
       "      <td>2</td>\n",
       "      <td>12</td>\n",
       "      <td>42</td>\n",
       "      <td>72</td>\n",
       "      <td>91</td>\n",
       "      <td>64</td>\n",
       "      <td>40</td>\n",
       "      <td>25</td>\n",
       "      <td>26</td>\n",
       "      <td>13</td>\n",
       "      <td>1</td>\n",
       "      <td>1.0</td>\n",
       "      <td>0.0</td>\n",
       "      <td>0.0</td>\n",
       "      <td>0.0</td>\n",
       "    </tr>\n",
       "    <tr>\n",
       "      <th>0</th>\n",
       "      <td>2</td>\n",
       "      <td>1</td>\n",
       "      <td>6</td>\n",
       "      <td>21</td>\n",
       "      <td>36</td>\n",
       "      <td>46</td>\n",
       "      <td>32</td>\n",
       "      <td>20</td>\n",
       "      <td>13</td>\n",
       "      <td>26</td>\n",
       "      <td>13</td>\n",
       "      <td>1</td>\n",
       "      <td>1.0</td>\n",
       "      <td>0.0</td>\n",
       "      <td>0.0</td>\n",
       "      <td>0.0</td>\n",
       "    </tr>\n",
       "  </tbody>\n",
       "</table>\n",
       "</div>"
      ],
      "text/plain": [
       "   0  1   2   3    4    5    6   7   8   9  10  11  train  valid  wrong train  \\\n",
       "0  2  4  24  84  143  181  127  80  50  26  13   1    1.0    0.0          0.0   \n",
       "0  2  2  12  42   72   91   64  40  25  26  13   1    1.0    0.0          0.0   \n",
       "0  2  1   6  21   36   46   32  20  13  26  13   1    1.0    0.0          0.0   \n",
       "\n",
       "   wrong valid  \n",
       "0          0.0  \n",
       "0          0.0  \n",
       "0          0.0  "
      ]
     },
     "metadata": {},
     "output_type": "display_data"
    },
    {
     "name": "stdout",
     "output_type": "stream",
     "text": [
      "merging....\n",
      "stupid_merge_same_nodes\n",
      "set_height_for_all_nodes\n",
      "count_metrics\n"
     ]
    },
    {
     "data": {
      "application/vnd.jupyter.widget-view+json": {
       "model_id": "71e47c34bdbe481890dfe0a04e56114b",
       "version_major": 2,
       "version_minor": 0
      },
      "text/plain": [
       "  0%|          | 0/13 [00:00<?, ?it/s]"
      ]
     },
     "metadata": {},
     "output_type": "display_data"
    },
    {
     "ename": "KeyboardInterrupt",
     "evalue": "",
     "output_type": "error",
     "traceback": [
      "\u001b[31m---------------------------------------------------------------------------\u001b[39m",
      "\u001b[31mKeyboardInterrupt\u001b[39m                         Traceback (most recent call last)",
      "\u001b[36mCell\u001b[39m\u001b[36m \u001b[39m\u001b[32mIn[124]\u001b[39m\u001b[32m, line 17\u001b[39m\n\u001b[32m     14\u001b[39m nodes, node_df = grammar.set_height_for_all_nodes(verbose=\u001b[38;5;28;01mFalse\u001b[39;00m)\n\u001b[32m     16\u001b[39m \u001b[38;5;28mprint\u001b[39m(\u001b[33m\"\u001b[39m\u001b[33mcount_metrics\u001b[39m\u001b[33m\"\u001b[39m)\n\u001b[32m---> \u001b[39m\u001b[32m17\u001b[39m tmp_df = pd.DataFrame([\u001b[43mmetric\u001b[49m\u001b[43m.\u001b[49m\u001b[43mcount_metrics\u001b[49m\u001b[43m(\u001b[49m\u001b[43mverbose\u001b[49m\u001b[43m=\u001b[49m\u001b[38;5;28;43;01mTrue\u001b[39;49;00m\u001b[43m)\u001b[49m])\n\u001b[32m     18\u001b[39m tmp_df = pd.concat([tmp_df, node_df.reset_index().drop(columns=\u001b[33m\"\u001b[39m\u001b[33mindex\u001b[39m\u001b[33m\"\u001b[39m)], axis=\u001b[32m1\u001b[39m)\n\u001b[32m     19\u001b[39m df = pd.concat([df, tmp_df])\n",
      "\u001b[36mFile \u001b[39m\u001b[32m<string>:3\u001b[39m, in \u001b[36mcount_metrics\u001b[39m\u001b[34m(self, verbose)\u001b[39m\n",
      "\u001b[36mFile \u001b[39m\u001b[32m<string>:5\u001b[39m, in \u001b[36m_count_accuracy\u001b[39m\u001b[34m(self, data, verbose)\u001b[39m\n",
      "\u001b[36mFile \u001b[39m\u001b[32m~/projects/context_free_grammar/modules/grammar/grammar.py:155\u001b[39m, in \u001b[36mGrammar.is_image_in_grammar\u001b[39m\u001b[34m(self, image, node)\u001b[39m\n\u001b[32m    153\u001b[39m             \u001b[38;5;28;01mreturn\u001b[39;00m \u001b[38;5;28;01mTrue\u001b[39;00m\n\u001b[32m    154\u001b[39m \u001b[38;5;28;01melif\u001b[39;00m action == \u001b[33m\"\u001b[39m\u001b[33msingle image\u001b[39m\u001b[33m\"\u001b[39m:\n\u001b[32m--> \u001b[39m\u001b[32m155\u001b[39m     \u001b[38;5;28;01mif\u001b[39;00m \u001b[38;5;28;43mself\u001b[39;49m\u001b[43m.\u001b[49m\u001b[43mis_image_in_grammar\u001b[49m\u001b[43m(\u001b[49m\u001b[43mimage\u001b[49m\u001b[43m,\u001b[49m\u001b[43m \u001b[49m\u001b[43mnodes\u001b[49m\u001b[43m[\u001b[49m\u001b[32;43m0\u001b[39;49m\u001b[43m]\u001b[49m\u001b[43m)\u001b[49m:\n\u001b[32m    156\u001b[39m         \u001b[38;5;28;01mreturn\u001b[39;00m \u001b[38;5;28;01mTrue\u001b[39;00m\n\u001b[32m    157\u001b[39m \u001b[38;5;28;01melse\u001b[39;00m:\n",
      "\u001b[36mFile \u001b[39m\u001b[32m~/projects/context_free_grammar/modules/grammar/grammar.py:150\u001b[39m, in \u001b[36mGrammar.is_image_in_grammar\u001b[39m\u001b[34m(self, image, node)\u001b[39m\n\u001b[32m    148\u001b[39m         image0 = image[:, : image.shape[\u001b[32m1\u001b[39m] // \u001b[32m2\u001b[39m]\n\u001b[32m    149\u001b[39m         image1 = image[:, image.shape[\u001b[32m1\u001b[39m] // \u001b[32m2\u001b[39m :]\n\u001b[32m--> \u001b[39m\u001b[32m150\u001b[39m         \u001b[38;5;28;01mif\u001b[39;00m \u001b[38;5;28;43mself\u001b[39;49m\u001b[43m.\u001b[49m\u001b[43mis_image_in_grammar\u001b[49m\u001b[43m(\u001b[49m\n\u001b[32m    151\u001b[39m \u001b[43m            \u001b[49m\u001b[43mimage0\u001b[49m\u001b[43m,\u001b[49m\u001b[43m \u001b[49m\u001b[43mnodes\u001b[49m\u001b[43m[\u001b[49m\u001b[32;43m0\u001b[39;49m\u001b[43m]\u001b[49m\n\u001b[32m    152\u001b[39m \u001b[43m        \u001b[49m\u001b[43m)\u001b[49m \u001b[38;5;129;01mand\u001b[39;00m \u001b[38;5;28mself\u001b[39m.is_image_in_grammar(image1, nodes[\u001b[32m1\u001b[39m]):\n\u001b[32m    153\u001b[39m             \u001b[38;5;28;01mreturn\u001b[39;00m \u001b[38;5;28;01mTrue\u001b[39;00m\n\u001b[32m    154\u001b[39m \u001b[38;5;28;01melif\u001b[39;00m action == \u001b[33m\"\u001b[39m\u001b[33msingle image\u001b[39m\u001b[33m\"\u001b[39m:\n",
      "\u001b[36mFile \u001b[39m\u001b[32m~/projects/context_free_grammar/modules/grammar/grammar.py:142\u001b[39m, in \u001b[36mGrammar.is_image_in_grammar\u001b[39m\u001b[34m(self, image, node)\u001b[39m\n\u001b[32m    140\u001b[39m         image0 = image[: image.shape[\u001b[32m0\u001b[39m] // \u001b[32m2\u001b[39m]\n\u001b[32m    141\u001b[39m         image1 = image[image.shape[\u001b[32m0\u001b[39m] // \u001b[32m2\u001b[39m :]\n\u001b[32m--> \u001b[39m\u001b[32m142\u001b[39m         \u001b[38;5;28;01mif\u001b[39;00m \u001b[38;5;28;43mself\u001b[39;49m\u001b[43m.\u001b[49m\u001b[43mis_image_in_grammar\u001b[49m\u001b[43m(\u001b[49m\n\u001b[32m    143\u001b[39m \u001b[43m            \u001b[49m\u001b[43mimage0\u001b[49m\u001b[43m,\u001b[49m\u001b[43m \u001b[49m\u001b[43mnodes\u001b[49m\u001b[43m[\u001b[49m\u001b[32;43m0\u001b[39;49m\u001b[43m]\u001b[49m\n\u001b[32m    144\u001b[39m \u001b[43m        \u001b[49m\u001b[43m)\u001b[49m \u001b[38;5;129;01mand\u001b[39;00m \u001b[38;5;28mself\u001b[39m.is_image_in_grammar(image1, nodes[\u001b[32m1\u001b[39m]):\n\u001b[32m    145\u001b[39m             \u001b[38;5;28;01mreturn\u001b[39;00m \u001b[38;5;28;01mTrue\u001b[39;00m\n\u001b[32m    146\u001b[39m \u001b[38;5;28;01melif\u001b[39;00m action == \u001b[33m\"\u001b[39m\u001b[33mvertical line\u001b[39m\u001b[33m\"\u001b[39m:\n",
      "\u001b[36mFile \u001b[39m\u001b[32m~/projects/context_free_grammar/modules/grammar/grammar.py:142\u001b[39m, in \u001b[36mGrammar.is_image_in_grammar\u001b[39m\u001b[34m(self, image, node)\u001b[39m\n\u001b[32m    140\u001b[39m         image0 = image[: image.shape[\u001b[32m0\u001b[39m] // \u001b[32m2\u001b[39m]\n\u001b[32m    141\u001b[39m         image1 = image[image.shape[\u001b[32m0\u001b[39m] // \u001b[32m2\u001b[39m :]\n\u001b[32m--> \u001b[39m\u001b[32m142\u001b[39m         \u001b[38;5;28;01mif\u001b[39;00m \u001b[38;5;28;43mself\u001b[39;49m\u001b[43m.\u001b[49m\u001b[43mis_image_in_grammar\u001b[49m\u001b[43m(\u001b[49m\n\u001b[32m    143\u001b[39m \u001b[43m            \u001b[49m\u001b[43mimage0\u001b[49m\u001b[43m,\u001b[49m\u001b[43m \u001b[49m\u001b[43mnodes\u001b[49m\u001b[43m[\u001b[49m\u001b[32;43m0\u001b[39;49m\u001b[43m]\u001b[49m\n\u001b[32m    144\u001b[39m \u001b[43m        \u001b[49m\u001b[43m)\u001b[49m \u001b[38;5;129;01mand\u001b[39;00m \u001b[38;5;28mself\u001b[39m.is_image_in_grammar(image1, nodes[\u001b[32m1\u001b[39m]):\n\u001b[32m    145\u001b[39m             \u001b[38;5;28;01mreturn\u001b[39;00m \u001b[38;5;28;01mTrue\u001b[39;00m\n\u001b[32m    146\u001b[39m \u001b[38;5;28;01melif\u001b[39;00m action == \u001b[33m\"\u001b[39m\u001b[33mvertical line\u001b[39m\u001b[33m\"\u001b[39m:\n",
      "\u001b[36mFile \u001b[39m\u001b[32m~/projects/context_free_grammar/modules/grammar/grammar.py:144\u001b[39m, in \u001b[36mGrammar.is_image_in_grammar\u001b[39m\u001b[34m(self, image, node)\u001b[39m\n\u001b[32m    140\u001b[39m         image0 = image[: image.shape[\u001b[32m0\u001b[39m] // \u001b[32m2\u001b[39m]\n\u001b[32m    141\u001b[39m         image1 = image[image.shape[\u001b[32m0\u001b[39m] // \u001b[32m2\u001b[39m :]\n\u001b[32m    142\u001b[39m         \u001b[38;5;28;01mif\u001b[39;00m \u001b[38;5;28mself\u001b[39m.is_image_in_grammar(\n\u001b[32m    143\u001b[39m             image0, nodes[\u001b[32m0\u001b[39m]\n\u001b[32m--> \u001b[39m\u001b[32m144\u001b[39m         ) \u001b[38;5;129;01mand\u001b[39;00m \u001b[38;5;28;43mself\u001b[39;49m\u001b[43m.\u001b[49m\u001b[43mis_image_in_grammar\u001b[49m\u001b[43m(\u001b[49m\u001b[43mimage1\u001b[49m\u001b[43m,\u001b[49m\u001b[43m \u001b[49m\u001b[43mnodes\u001b[49m\u001b[43m[\u001b[49m\u001b[32;43m1\u001b[39;49m\u001b[43m]\u001b[49m\u001b[43m)\u001b[49m:\n\u001b[32m    145\u001b[39m             \u001b[38;5;28;01mreturn\u001b[39;00m \u001b[38;5;28;01mTrue\u001b[39;00m\n\u001b[32m    146\u001b[39m \u001b[38;5;28;01melif\u001b[39;00m action == \u001b[33m\"\u001b[39m\u001b[33mvertical line\u001b[39m\u001b[33m\"\u001b[39m:\n",
      "\u001b[36mFile \u001b[39m\u001b[32m~/projects/context_free_grammar/modules/grammar/grammar.py:142\u001b[39m, in \u001b[36mGrammar.is_image_in_grammar\u001b[39m\u001b[34m(self, image, node)\u001b[39m\n\u001b[32m    140\u001b[39m         image0 = image[: image.shape[\u001b[32m0\u001b[39m] // \u001b[32m2\u001b[39m]\n\u001b[32m    141\u001b[39m         image1 = image[image.shape[\u001b[32m0\u001b[39m] // \u001b[32m2\u001b[39m :]\n\u001b[32m--> \u001b[39m\u001b[32m142\u001b[39m         \u001b[38;5;28;01mif\u001b[39;00m \u001b[38;5;28;43mself\u001b[39;49m\u001b[43m.\u001b[49m\u001b[43mis_image_in_grammar\u001b[49m\u001b[43m(\u001b[49m\n\u001b[32m    143\u001b[39m \u001b[43m            \u001b[49m\u001b[43mimage0\u001b[49m\u001b[43m,\u001b[49m\u001b[43m \u001b[49m\u001b[43mnodes\u001b[49m\u001b[43m[\u001b[49m\u001b[32;43m0\u001b[39;49m\u001b[43m]\u001b[49m\n\u001b[32m    144\u001b[39m \u001b[43m        \u001b[49m\u001b[43m)\u001b[49m \u001b[38;5;129;01mand\u001b[39;00m \u001b[38;5;28mself\u001b[39m.is_image_in_grammar(image1, nodes[\u001b[32m1\u001b[39m]):\n\u001b[32m    145\u001b[39m             \u001b[38;5;28;01mreturn\u001b[39;00m \u001b[38;5;28;01mTrue\u001b[39;00m\n\u001b[32m    146\u001b[39m \u001b[38;5;28;01melif\u001b[39;00m action == \u001b[33m\"\u001b[39m\u001b[33mvertical line\u001b[39m\u001b[33m\"\u001b[39m:\n",
      "\u001b[36mFile \u001b[39m\u001b[32m~/projects/context_free_grammar/modules/grammar/grammar.py:150\u001b[39m, in \u001b[36mGrammar.is_image_in_grammar\u001b[39m\u001b[34m(self, image, node)\u001b[39m\n\u001b[32m    148\u001b[39m         image0 = image[:, : image.shape[\u001b[32m1\u001b[39m] // \u001b[32m2\u001b[39m]\n\u001b[32m    149\u001b[39m         image1 = image[:, image.shape[\u001b[32m1\u001b[39m] // \u001b[32m2\u001b[39m :]\n\u001b[32m--> \u001b[39m\u001b[32m150\u001b[39m         \u001b[38;5;28;01mif\u001b[39;00m \u001b[38;5;28;43mself\u001b[39;49m\u001b[43m.\u001b[49m\u001b[43mis_image_in_grammar\u001b[49m\u001b[43m(\u001b[49m\n\u001b[32m    151\u001b[39m \u001b[43m            \u001b[49m\u001b[43mimage0\u001b[49m\u001b[43m,\u001b[49m\u001b[43m \u001b[49m\u001b[43mnodes\u001b[49m\u001b[43m[\u001b[49m\u001b[32;43m0\u001b[39;49m\u001b[43m]\u001b[49m\n\u001b[32m    152\u001b[39m \u001b[43m        \u001b[49m\u001b[43m)\u001b[49m \u001b[38;5;129;01mand\u001b[39;00m \u001b[38;5;28mself\u001b[39m.is_image_in_grammar(image1, nodes[\u001b[32m1\u001b[39m]):\n\u001b[32m    153\u001b[39m             \u001b[38;5;28;01mreturn\u001b[39;00m \u001b[38;5;28;01mTrue\u001b[39;00m\n\u001b[32m    154\u001b[39m \u001b[38;5;28;01melif\u001b[39;00m action == \u001b[33m\"\u001b[39m\u001b[33msingle image\u001b[39m\u001b[33m\"\u001b[39m:\n",
      "\u001b[36mFile \u001b[39m\u001b[32m~/projects/context_free_grammar/modules/grammar/grammar.py:150\u001b[39m, in \u001b[36mGrammar.is_image_in_grammar\u001b[39m\u001b[34m(self, image, node)\u001b[39m\n\u001b[32m    148\u001b[39m         image0 = image[:, : image.shape[\u001b[32m1\u001b[39m] // \u001b[32m2\u001b[39m]\n\u001b[32m    149\u001b[39m         image1 = image[:, image.shape[\u001b[32m1\u001b[39m] // \u001b[32m2\u001b[39m :]\n\u001b[32m--> \u001b[39m\u001b[32m150\u001b[39m         \u001b[38;5;28;01mif\u001b[39;00m \u001b[38;5;28;43mself\u001b[39;49m\u001b[43m.\u001b[49m\u001b[43mis_image_in_grammar\u001b[49m\u001b[43m(\u001b[49m\n\u001b[32m    151\u001b[39m \u001b[43m            \u001b[49m\u001b[43mimage0\u001b[49m\u001b[43m,\u001b[49m\u001b[43m \u001b[49m\u001b[43mnodes\u001b[49m\u001b[43m[\u001b[49m\u001b[32;43m0\u001b[39;49m\u001b[43m]\u001b[49m\n\u001b[32m    152\u001b[39m \u001b[43m        \u001b[49m\u001b[43m)\u001b[49m \u001b[38;5;129;01mand\u001b[39;00m \u001b[38;5;28mself\u001b[39m.is_image_in_grammar(image1, nodes[\u001b[32m1\u001b[39m]):\n\u001b[32m    153\u001b[39m             \u001b[38;5;28;01mreturn\u001b[39;00m \u001b[38;5;28;01mTrue\u001b[39;00m\n\u001b[32m    154\u001b[39m \u001b[38;5;28;01melif\u001b[39;00m action == \u001b[33m\"\u001b[39m\u001b[33msingle image\u001b[39m\u001b[33m\"\u001b[39m:\n",
      "\u001b[36mFile \u001b[39m\u001b[32m~/projects/context_free_grammar/modules/grammar/grammar.py:142\u001b[39m, in \u001b[36mGrammar.is_image_in_grammar\u001b[39m\u001b[34m(self, image, node)\u001b[39m\n\u001b[32m    140\u001b[39m         image0 = image[: image.shape[\u001b[32m0\u001b[39m] // \u001b[32m2\u001b[39m]\n\u001b[32m    141\u001b[39m         image1 = image[image.shape[\u001b[32m0\u001b[39m] // \u001b[32m2\u001b[39m :]\n\u001b[32m--> \u001b[39m\u001b[32m142\u001b[39m         \u001b[38;5;28;01mif\u001b[39;00m \u001b[38;5;28;43mself\u001b[39;49m\u001b[43m.\u001b[49m\u001b[43mis_image_in_grammar\u001b[49m\u001b[43m(\u001b[49m\n\u001b[32m    143\u001b[39m \u001b[43m            \u001b[49m\u001b[43mimage0\u001b[49m\u001b[43m,\u001b[49m\u001b[43m \u001b[49m\u001b[43mnodes\u001b[49m\u001b[43m[\u001b[49m\u001b[32;43m0\u001b[39;49m\u001b[43m]\u001b[49m\n\u001b[32m    144\u001b[39m \u001b[43m        \u001b[49m\u001b[43m)\u001b[49m \u001b[38;5;129;01mand\u001b[39;00m \u001b[38;5;28mself\u001b[39m.is_image_in_grammar(image1, nodes[\u001b[32m1\u001b[39m]):\n\u001b[32m    145\u001b[39m             \u001b[38;5;28;01mreturn\u001b[39;00m \u001b[38;5;28;01mTrue\u001b[39;00m\n\u001b[32m    146\u001b[39m \u001b[38;5;28;01melif\u001b[39;00m action == \u001b[33m\"\u001b[39m\u001b[33mvertical line\u001b[39m\u001b[33m\"\u001b[39m:\n",
      "\u001b[36mFile \u001b[39m\u001b[32m~/projects/context_free_grammar/modules/grammar/grammar.py:150\u001b[39m, in \u001b[36mGrammar.is_image_in_grammar\u001b[39m\u001b[34m(self, image, node)\u001b[39m\n\u001b[32m    148\u001b[39m         image0 = image[:, : image.shape[\u001b[32m1\u001b[39m] // \u001b[32m2\u001b[39m]\n\u001b[32m    149\u001b[39m         image1 = image[:, image.shape[\u001b[32m1\u001b[39m] // \u001b[32m2\u001b[39m :]\n\u001b[32m--> \u001b[39m\u001b[32m150\u001b[39m         \u001b[38;5;28;01mif\u001b[39;00m \u001b[38;5;28;43mself\u001b[39;49m\u001b[43m.\u001b[49m\u001b[43mis_image_in_grammar\u001b[49m\u001b[43m(\u001b[49m\n\u001b[32m    151\u001b[39m \u001b[43m            \u001b[49m\u001b[43mimage0\u001b[49m\u001b[43m,\u001b[49m\u001b[43m \u001b[49m\u001b[43mnodes\u001b[49m\u001b[43m[\u001b[49m\u001b[32;43m0\u001b[39;49m\u001b[43m]\u001b[49m\n\u001b[32m    152\u001b[39m \u001b[43m        \u001b[49m\u001b[43m)\u001b[49m \u001b[38;5;129;01mand\u001b[39;00m \u001b[38;5;28mself\u001b[39m.is_image_in_grammar(image1, nodes[\u001b[32m1\u001b[39m]):\n\u001b[32m    153\u001b[39m             \u001b[38;5;28;01mreturn\u001b[39;00m \u001b[38;5;28;01mTrue\u001b[39;00m\n\u001b[32m    154\u001b[39m \u001b[38;5;28;01melif\u001b[39;00m action == \u001b[33m\"\u001b[39m\u001b[33msingle image\u001b[39m\u001b[33m\"\u001b[39m:\n",
      "\u001b[36mFile \u001b[39m\u001b[32m~/projects/context_free_grammar/modules/grammar/grammar.py:134\u001b[39m, in \u001b[36mGrammar.is_image_in_grammar\u001b[39m\u001b[34m(self, image, node)\u001b[39m\n\u001b[32m    132\u001b[39m \u001b[38;5;28;01mif\u001b[39;00m node.terminal:\n\u001b[32m    133\u001b[39m     \u001b[38;5;28;01mif\u001b[39;00m node.rules[\u001b[32m0\u001b[39m] == \u001b[33m\"\u001b[39m\u001b[33m1x1 pixel\u001b[39m\u001b[33m\"\u001b[39m:\n\u001b[32m--> \u001b[39m\u001b[32m134\u001b[39m         \u001b[38;5;28;01mreturn\u001b[39;00m \u001b[43mimage\u001b[49m\u001b[43m.\u001b[49m\u001b[43mmin\u001b[49m\u001b[43m(\u001b[49m\u001b[43m)\u001b[49m == image.max() \u001b[38;5;129;01mand\u001b[39;00m image.min() == node.rules[\u001b[32m1\u001b[39m]\n\u001b[32m    135\u001b[39m     \u001b[38;5;28;01mraise\u001b[39;00m \u001b[38;5;167;01mValueError\u001b[39;00m(\u001b[33mf\u001b[39m\u001b[33m\"\u001b[39m\u001b[33mUnknown terminal action: \u001b[39m\u001b[38;5;132;01m{\u001b[39;00mnode.rules[\u001b[32m0\u001b[39m]\u001b[38;5;132;01m}\u001b[39;00m\u001b[33m\"\u001b[39m)\n\u001b[32m    137\u001b[39m \u001b[38;5;28;01mfor\u001b[39;00m action, nodes \u001b[38;5;129;01min\u001b[39;00m node.rules:\n",
      "\u001b[36mFile \u001b[39m\u001b[32m~/miniconda3/envs/CFGrammar/lib/python3.13/site-packages/numpy/_core/_methods.py:48\u001b[39m, in \u001b[36m_amin\u001b[39m\u001b[34m(a, axis, out, keepdims, initial, where)\u001b[39m\n\u001b[32m     46\u001b[39m \u001b[38;5;28;01mdef\u001b[39;00m\u001b[38;5;250m \u001b[39m\u001b[34m_amin\u001b[39m(a, axis=\u001b[38;5;28;01mNone\u001b[39;00m, out=\u001b[38;5;28;01mNone\u001b[39;00m, keepdims=\u001b[38;5;28;01mFalse\u001b[39;00m,\n\u001b[32m     47\u001b[39m           initial=_NoValue, where=\u001b[38;5;28;01mTrue\u001b[39;00m):\n\u001b[32m---> \u001b[39m\u001b[32m48\u001b[39m     \u001b[38;5;28;01mreturn\u001b[39;00m \u001b[43mumr_minimum\u001b[49m\u001b[43m(\u001b[49m\u001b[43ma\u001b[49m\u001b[43m,\u001b[49m\u001b[43m \u001b[49m\u001b[43maxis\u001b[49m\u001b[43m,\u001b[49m\u001b[43m \u001b[49m\u001b[38;5;28;43;01mNone\u001b[39;49;00m\u001b[43m,\u001b[49m\u001b[43m \u001b[49m\u001b[43mout\u001b[49m\u001b[43m,\u001b[49m\u001b[43m \u001b[49m\u001b[43mkeepdims\u001b[49m\u001b[43m,\u001b[49m\u001b[43m \u001b[49m\u001b[43minitial\u001b[49m\u001b[43m,\u001b[49m\u001b[43m \u001b[49m\u001b[43mwhere\u001b[49m\u001b[43m)\u001b[49m\n",
      "\u001b[31mKeyboardInterrupt\u001b[39m: "
     ]
    }
   ],
   "source": [
    "df = pd.concat(\n",
    "    [node_df.reset_index().drop(columns=\"index\"), pd.DataFrame([res])], axis=1\n",
    ")\n",
    "display(df)\n",
    "\n",
    "for _ in range(10):\n",
    "    print(\"merging....\")\n",
    "    for layer in range(1, 9):\n",
    "        if len(nodes[layer]) > 1:\n",
    "            random.shuffle(nodes[layer])\n",
    "            for i in range(0, len(nodes[layer]) - 1, 2):\n",
    "                merge_nodes(nodes[layer][i], nodes[layer][i + 1])\n",
    "    print(\"stupid_merge_same_nodes\")\n",
    "    stupid_merge_same_nodes(grammar)\n",
    "    print(\"set_height_for_all_nodes\")\n",
    "    nodes, node_df = grammar.set_height_for_all_nodes(verbose=False)\n",
    "\n",
    "    print(\"count_metrics\")\n",
    "    tmp_df = pd.DataFrame([metric.count_metrics(verbose=True)])\n",
    "    tmp_df = pd.concat([tmp_df, node_df.reset_index().drop(columns=\"index\")], axis=1)\n",
    "    df = pd.concat([df, tmp_df])\n",
    "\n",
    "    clear_output(wait=True)\n",
    "\n",
    "    display(df)"
   ]
  },
  {
   "cell_type": "code",
   "execution_count": null,
   "id": "3b229ccb",
   "metadata": {},
   "outputs": [],
   "source": []
  }
 ],
 "metadata": {
  "kernelspec": {
   "display_name": "CFGrammar",
   "language": "python",
   "name": "python3"
  },
  "language_info": {
   "codemirror_mode": {
    "name": "ipython",
    "version": 3
   },
   "file_extension": ".py",
   "mimetype": "text/x-python",
   "name": "python",
   "nbconvert_exporter": "python",
   "pygments_lexer": "ipython3",
   "version": "3.13.3"
  }
 },
 "nbformat": 4,
 "nbformat_minor": 5
}
