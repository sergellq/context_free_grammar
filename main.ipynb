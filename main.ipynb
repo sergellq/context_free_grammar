{
 "cells": [
  {
   "cell_type": "code",
   "execution_count": null,
   "id": "219abdc0",
   "metadata": {},
   "outputs": [
    {
     "name": "stdout",
     "output_type": "stream",
     "text": [
      "The autoreload extension is already loaded. To reload it, use:\n",
      "  %reload_ext autoreload\n"
     ]
    },
    {
     "data": {
      "text/html": [
       "\n",
       "    <style>\n",
       "    .cell-output-ipywidget-background {\n",
       "        background-color: transparent !important;\n",
       "    }\n",
       "    :root {\n",
       "        --jp-widgets-color: var(--vscode-editor-foreground);\n",
       "        --jp-widgets-font-size: var(--vscode-editor-font-size);\n",
       "    }\n",
       "    </style>\n",
       "    "
      ],
      "text/plain": [
       "<IPython.core.display.HTML object>"
      ]
     },
     "metadata": {},
     "output_type": "display_data"
    }
   ],
   "source": [
    "%load_ext autoreload\n",
    "%autoreload 2\n",
    "\n",
    "import numpy as np\n",
    "from tqdm.auto import tqdm\n",
    "\n",
    "from modules.data_manage.load_mnist import load_mnist\n",
    "from modules.grammar.count_accuracy import CountAccuracy\n",
    "from modules.grammar.grammar import Grammar\n",
    "from modules.grammar.merge.stupid_merge_same_nodes import stupid_merge_same_nodes\n",
    "from modules.grammar.node import merge_nodes\n",
    "from modules.plots.draw_imgs import draw_imgs\n",
    "from modules.plots.plot_random_from_grammar import plot_random_from_grammar\n",
    "from modules.utils import inject_jupyter_style\n",
    "\n",
    "inject_jupyter_style()"
   ]
  },
  {
   "cell_type": "code",
   "execution_count": 37,
   "id": "9230502b",
   "metadata": {},
   "outputs": [
    {
     "name": "stdout",
     "output_type": "stream",
     "text": [
      "Train: (1000, 32, 32) (1000,)\n",
      "Test:  (1000, 32, 32) (1000,)\n"
     ]
    }
   ],
   "source": [
    "x_train, y_train, x_test, y_test = load_mnist(size=1000)\n",
    "# draw_imgs(x_train, (2, 7), random=False)"
   ]
  },
  {
   "cell_type": "code",
   "execution_count": 85,
   "id": "c19457d0",
   "metadata": {},
   "outputs": [
    {
     "data": {
      "application/vnd.jupyter.widget-view+json": {
       "model_id": "50907a7f0c8a49fd84c97296b7c62b3f",
       "version_major": 2,
       "version_minor": 0
      },
      "text/plain": [
       "  0%|          | 0/97 [00:00<?, ?it/s]"
      ]
     },
     "metadata": {},
     "output_type": "display_data"
    }
   ],
   "source": [
    "grammar = Grammar(colors=x_train.max() + 1)\n",
    "metric = CountAccuracy(\n",
    "    grammar=grammar,\n",
    "    train=x_train[y_train == 0],\n",
    "    valid=x_test[y_test == 0],\n",
    "    wrong_train=[x_train[y_train == i] for i in range(1, 10)],\n",
    "    wrong_valid=[x_test[y_test == i] for i in range(1, 10)],\n",
    ")\n",
    "grammar.add_images(x_train[y_train == 0])"
   ]
  },
  {
   "cell_type": "code",
   "execution_count": 86,
   "id": "20547eb9",
   "metadata": {},
   "outputs": [
    {
     "data": {
      "text/plain": [
       "(19780, 3638)"
      ]
     },
     "execution_count": 86,
     "metadata": {},
     "output_type": "execute_result"
    }
   ],
   "source": [
    "stupid_merge_same_nodes(grammar)"
   ]
  },
  {
   "cell_type": "code",
   "execution_count": 21,
   "id": "8f002843",
   "metadata": {},
   "outputs": [
    {
     "name": "stdout",
     "output_type": "stream",
     "text": [
      "height           0   1   2    3    4    5    6    7    8    9   10  11\n",
      "number of nodes   2   4  30  182  431  902  839  589  369  194  97   1\n"
     ]
    }
   ],
   "source": [
    "nodes = grammar.set_height_for_all_nodes()"
   ]
  },
  {
   "cell_type": "code",
   "execution_count": 22,
   "id": "cea3d19f",
   "metadata": {},
   "outputs": [
    {
     "data": {
      "text/plain": [
       "{'train': 0.7731958762886598,\n",
       " 'valid': 0.0,\n",
       " 'wrong train': 0.0,\n",
       " 'wrong valid': 0.0,\n",
       " 'wrong train 1': 0.0,\n",
       " 'wrong train 2': 0.0,\n",
       " 'wrong train 3': 0.0,\n",
       " 'wrong train 4': 0.0,\n",
       " 'wrong train 5': 0.0,\n",
       " 'wrong train 6': 0.0,\n",
       " 'wrong train 7': 0.0,\n",
       " 'wrong train 8': 0.0,\n",
       " 'wrong train 9': 0.0,\n",
       " 'wrong valid 1': 0.0,\n",
       " 'wrong valid 2': 0.0,\n",
       " 'wrong valid 3': 0.0,\n",
       " 'wrong valid 4': 0.0,\n",
       " 'wrong valid 5': 0.0,\n",
       " 'wrong valid 6': 0.0,\n",
       " 'wrong valid 7': 0.0,\n",
       " 'wrong valid 8': 0.0,\n",
       " 'wrong valid 9': 0.0}"
      ]
     },
     "execution_count": 22,
     "metadata": {},
     "output_type": "execute_result"
    }
   ],
   "source": [
    "metric.count_metrics()"
   ]
  },
  {
   "cell_type": "code",
   "execution_count": 11,
   "id": "b2b98a88",
   "metadata": {},
   "outputs": [
    {
     "name": "stdout",
     "output_type": "stream",
     "text": [
      "height           0   1   2    3    4    5    6    7    8    9   10  11\n",
      "number of nodes   2   2  15  145  402  886  838  589  369  194  97   1\n"
     ]
    }
   ],
   "source": [
    "merge_nodes(nodes[1][0], nodes[1][1])\n",
    "merge_nodes(nodes[1][2], nodes[1][3])\n",
    "\n",
    "stupid_merge_same_nodes(grammar)\n",
    "\n",
    "nodes = grammar.set_height_for_all_nodes()\n",
    "merge_nodes(nodes[1][0], nodes[1][1])"
   ]
  },
  {
   "cell_type": "code",
   "execution_count": 14,
   "id": "d20ec4ff",
   "metadata": {},
   "outputs": [
    {
     "name": "stdout",
     "output_type": "stream",
     "text": [
      "height           0   1   2    3    4    5    6    7    8    9   10  11\n",
      "number of nodes   2   1   9  131  393  881  838  589  369  194  97   1\n"
     ]
    }
   ],
   "source": [
    "stupid_merge_same_nodes(grammar)\n",
    "nodes = grammar.set_height_for_all_nodes()"
   ]
  },
  {
   "cell_type": "code",
   "execution_count": 17,
   "id": "5fd74b7d",
   "metadata": {},
   "outputs": [
    {
     "data": {
      "text/plain": [
       "{'train': 0.061855670103092786,\n",
       " 'valid': 0.0,\n",
       " 'wrong train': 0.0,\n",
       " 'wrong valid': 0.0,\n",
       " 'wrong train 1': 0.0,\n",
       " 'wrong train 2': 0.0,\n",
       " 'wrong train 3': 0.0,\n",
       " 'wrong train 4': 0.0,\n",
       " 'wrong train 5': 0.0,\n",
       " 'wrong train 6': 0.0,\n",
       " 'wrong train 7': 0.0,\n",
       " 'wrong train 8': 0.0,\n",
       " 'wrong train 9': 0.0,\n",
       " 'wrong valid 1': 0.0,\n",
       " 'wrong valid 2': 0.0,\n",
       " 'wrong valid 3': 0.0,\n",
       " 'wrong valid 4': 0.0,\n",
       " 'wrong valid 5': 0.0,\n",
       " 'wrong valid 6': 0.0,\n",
       " 'wrong valid 7': 0.0,\n",
       " 'wrong valid 8': 0.0,\n",
       " 'wrong valid 9': 0.0}"
      ]
     },
     "execution_count": 17,
     "metadata": {},
     "output_type": "execute_result"
    }
   ],
   "source": [
    "metric.count_metrics()"
   ]
  }
 ],
 "metadata": {
  "kernelspec": {
   "display_name": "CFGrammar",
   "language": "python",
   "name": "python3"
  },
  "language_info": {
   "codemirror_mode": {
    "name": "ipython",
    "version": 3
   },
   "file_extension": ".py",
   "mimetype": "text/x-python",
   "name": "python",
   "nbconvert_exporter": "python",
   "pygments_lexer": "ipython3",
   "version": "3.13.3"
  }
 },
 "nbformat": 4,
 "nbformat_minor": 5
}
